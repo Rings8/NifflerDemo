{
 "cells": [
  {
   "cell_type": "code",
   "execution_count": 5,
   "metadata": {
    "collapsed": true,
    "ExecuteTime": {
     "end_time": "2023-08-17T18:00:51.464223200Z",
     "start_time": "2023-08-17T18:00:51.434225800Z"
    }
   },
   "outputs": [],
   "source": [
    "import markdown2\n",
    "\n",
    "with open(r\"C:\\Code\\NifflerDomo\\README.md\", 'r') as md_file:\n",
    "    md_text = md_file.read()\n",
    "    html_text = markdown2.markdown(md_text)\n",
    "\n",
    "with open(r'C:\\Code\\NifflerDomo\\index.html', 'w') as html_file:\n",
    "    html_file.write(html_text)"
   ]
  },
  {
   "cell_type": "code",
   "execution_count": null,
   "outputs": [],
   "source": [],
   "metadata": {
    "collapsed": false
   }
  }
 ],
 "metadata": {
  "kernelspec": {
   "display_name": "Python 3",
   "language": "python",
   "name": "python3"
  },
  "language_info": {
   "codemirror_mode": {
    "name": "ipython",
    "version": 2
   },
   "file_extension": ".py",
   "mimetype": "text/x-python",
   "name": "python",
   "nbconvert_exporter": "python",
   "pygments_lexer": "ipython2",
   "version": "2.7.6"
  }
 },
 "nbformat": 4,
 "nbformat_minor": 0
}
